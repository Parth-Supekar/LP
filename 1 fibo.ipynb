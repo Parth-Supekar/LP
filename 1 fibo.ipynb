{
 "cells": [
  {
   "cell_type": "code",
   "execution_count": 1,
   "id": "ebd41f13",
   "metadata": {},
   "outputs": [],
   "source": [
    "import timeit"
   ]
  },
  {
   "cell_type": "code",
   "execution_count": 8,
   "id": "7c93ac00",
   "metadata": {},
   "outputs": [
    {
     "name": "stdout",
     "output_type": "stream",
     "text": [
      "Given N=20\n",
      "1000 runs\n",
      "Fibonacci recursive:\t 6765 \tTime: 8.831349 O(2^n)\tSpace: O(n)\n",
      "Fibonacci non-recursive:\t 6765 \tTime:  0.008675 O(n)\tSpace: O(1)\n"
     ]
    }
   ],
   "source": [
    "import timeit\n",
    "#Recursive\n",
    "def fibonacci_recursive(n):\n",
    "    if n==0:\n",
    "        return 0\n",
    "    if n==1:\n",
    "        return 1\n",
    "    fib_recur_list[n]=fibonacci_recursive(n-1)+fibonacci_recursive(n-2)\n",
    "    return fib_recur_list[n]\n",
    "\n",
    "#Iterative or non recursive\n",
    "def fibonacci(n):\n",
    "    for i in range(2,n+1):\n",
    "        fib_list[i]=fib_list[i-1]+fib_list[i-2]\n",
    "    return fib_list[n]\n",
    "\n",
    "\n",
    "N=20\n",
    "RUNS=1000\n",
    "print(f\"Given N={N}\\n{RUNS} runs\")\n",
    "\n",
    "fib_recur_list=[0]*(N+1)\n",
    "fib_recur_list[0]=0\n",
    "fib_recur_list[1]=1\n",
    "print(\n",
    "    \"Fibonacci recursive:\\t\",\n",
    "    fibonacci(N),\n",
    "    \"\\tTime:\",\n",
    "    f'{timeit.timeit(\"fibonacci_recursive(N)\",setup=f\"from __main__ import fibonacci_recursive;N={N}\",number=RUNS,):5f}',\n",
    "    \"O(2^n)\\tSpace: O(n)\",\n",
    ")\n",
    "\n",
    "fib_list=[0]*(N+1)\n",
    "fib_list[0]=0\n",
    "fib_list[1]=1\n",
    "print(\n",
    "    \"Fibonacci non-recursive:\\t\",\n",
    "    fibonacci(N),\n",
    "    \"\\tTime: \",\n",
    "    f'{timeit.timeit(\"fibonacci(N)\",setup=f\"from __main__ import fibonacci;N={N}\",number=RUNS,):5f}',\n",
    "    \n",
    "    \"O(n)\\tSpace: O(1)\",\n",
    ")\n",
    "\n"
   ]
  },
  {
   "cell_type": "code",
   "execution_count": null,
   "id": "8cbabe47",
   "metadata": {},
   "outputs": [],
   "source": []
  }
 ],
 "metadata": {
  "kernelspec": {
   "display_name": "Python 3 (ipykernel)",
   "language": "python",
   "name": "python3"
  },
  "language_info": {
   "codemirror_mode": {
    "name": "ipython",
    "version": 3
   },
   "file_extension": ".py",
   "mimetype": "text/x-python",
   "name": "python",
   "nbconvert_exporter": "python",
   "pygments_lexer": "ipython3",
   "version": "3.10.9"
  }
 },
 "nbformat": 4,
 "nbformat_minor": 5
}
