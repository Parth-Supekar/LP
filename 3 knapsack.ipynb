{
 "cells": [
  {
   "cell_type": "code",
   "execution_count": 13,
   "id": "ca5804f2",
   "metadata": {},
   "outputs": [
    {
     "name": "stdout",
     "output_type": "stream",
     "text": [
      "Maximum value in Knapsack= 31.5\n"
     ]
    }
   ],
   "source": [
    "class ItemValue:\n",
    "    def __init__(self,wt_,val_,ind_):\n",
    "        self.wt=wt_\n",
    "        self.val=val_\n",
    "        self.ind=ind_\n",
    "        self.cost=val_/wt_\n",
    "    def __lt__(self,other):\n",
    "        return self.cost<other.cost\n",
    "def fractionalKnapsack(wt,val,capacity):\n",
    "    iVal=[ItemValue(wt[i],val[i],i) for i in range(len(wt))]\n",
    "    iVal.sort(reverse=True)\n",
    "    totalValue=0\n",
    "    \n",
    "    for i in iVal:\n",
    "        curWt=i.wt\n",
    "        curVal=i.val\n",
    "        if capacity-curWt>=0:\n",
    "            capacity-=curWt\n",
    "            totalValue+=curVal\n",
    "        else:\n",
    "            fraction=capacity/curWt\n",
    "            totalValue+=curVal*fraction\n",
    "            capacity=0\n",
    "            break\n",
    "    return totalValue\n",
    "if __name__==\"__main__\":\n",
    "    wt=[18,15,10]\n",
    "    val=[25,24,15]\n",
    "    capacity=20\n",
    "    maxValue=fractionalKnapsack(wt,val,capacity)\n",
    "    print(\"Maximum value in Knapsack=\",maxValue)"
   ]
  },
  {
   "cell_type": "code",
   "execution_count": null,
   "id": "5dcbe949",
   "metadata": {},
   "outputs": [],
   "source": []
  }
 ],
 "metadata": {
  "kernelspec": {
   "display_name": "Python 3 (ipykernel)",
   "language": "python",
   "name": "python3"
  },
  "language_info": {
   "codemirror_mode": {
    "name": "ipython",
    "version": 3
   },
   "file_extension": ".py",
   "mimetype": "text/x-python",
   "name": "python",
   "nbconvert_exporter": "python",
   "pygments_lexer": "ipython3",
   "version": "3.10.9"
  }
 },
 "nbformat": 4,
 "nbformat_minor": 5
}
